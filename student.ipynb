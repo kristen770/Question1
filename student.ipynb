{
 "cells": [
  {
   "cell_type": "code",
   "execution_count": 185,
   "metadata": {},
   "outputs": [],
   "source": [
    "# import libraries \n",
    "import pandas as pd  \n",
    "import numpy as np\n",
    "import sqlite3  \n",
    "import statsmodels.api as sm\n",
    "from statsmodels.formula.api import ols \n",
    "from scipy import stats\n",
    "from statsmodels.stats.power import TTestIndPower, TTestPower \n",
    "\n",
    "import seaborn as sns \n",
    "import matplotlib.pyplot as plt \n",
    "%matplotlib inline \n",
    "sns.set_style('darkgrid')"
   ]
  },
  {
   "cell_type": "code",
   "execution_count": 231,
   "metadata": {},
   "outputs": [],
   "source": [
    "def bootstrap(A, B):\n",
    "    universe = list(A) + list(B)\n",
    "    universe_shuffled = np.random.choice(universe, size=len(universe), replace=True)\n",
    "    new_a = universe_shuffled[:len(A)]\n",
    "    new_b = universe_shuffled[len(A):]\n",
    "    return new_a, new_b"
   ]
  },
  {
   "cell_type": "code",
   "execution_count": 257,
   "metadata": {},
   "outputs": [],
   "source": [
    "def one_sample_ttest(sample, popmean, alpha):\n",
    "\n",
    "    # Visualize sample distribution for normality \n",
    "    sns.set(color_codes=True)\n",
    "    sns.set(rc={'figure.figsize':(12,10)})\n",
    "    sns.distplot(sample)\n",
    "    \n",
    "    # Population mean \n",
    "    mu = popmean\n",
    "    \n",
    "    # Sample mean (x̄) using NumPy mean()\n",
    "    x_bar= sample.mean()\n",
    "\n",
    "    # Sample Standard Deviation (sigma) using Numpy\n",
    "    sigma = np.std(sample)\n",
    "    \n",
    "    # Degrees of freedom\n",
    "    df = len(sample) - 1\n",
    "    \n",
    "    #Calculate the critical t-value\n",
    "    t_crit = stats.t.ppf(1 - alpha, df=df)\n",
    "    \n",
    "    #Calculate the t-value and p-value\n",
    "    results = stats.ttest_1samp(a= sample, popmean= mu)         \n",
    "    \n",
    "    if (results[0]>t_crit) and (results[1]<alpha):\n",
    "        print (\"Null hypothesis rejected. Results are statistically significant with t-value =\", \n",
    "                round(results[0], 2), \"critical t-value =\", t_crit, \"and p-value =\", np.round((results[1]), 10))\n",
    "    else:\n",
    "        print (\"Null hypothesis is True with t-value =\", \n",
    "                round(results[0], 2), \", critical t-value =\", t_crit, \"and p-value =\", np.round((results[1]), 10))\n",
    "    "
   ]
  },
  {
   "cell_type": "code",
   "execution_count": 294,
   "metadata": {},
   "outputs": [],
   "source": [
    "def welch_t(a, b):\n",
    "    \n",
    "    \"\"\" Calculate Welch's t-statistic for two samples. \"\"\"\n",
    "\n",
    "    numerator = a.mean() - b.mean()\n",
    "    \n",
    "    # “ddof = Delta Degrees of Freedom”: the divisor used in the calculation is N - ddof, \n",
    "    #  where N represents the number of elements. By default ddof is zero.\n",
    "    \n",
    "    denominator = np.sqrt(a.var(ddof=1)/a.size + b.var(ddof=1)/b.size)\n",
    "    \n",
    "    return np.abs(numerator/denominator)"
   ]
  },
  {
   "cell_type": "code",
   "execution_count": 310,
   "metadata": {},
   "outputs": [],
   "source": [
    "def welch_df(a, b):\n",
    "    \n",
    "    \"\"\" Calculate the effective degrees of freedom for two samples. \"\"\"\n",
    "    \n",
    "    s1 = a.var(ddof=1) \n",
    "    s2 = b.var(ddof=1)\n",
    "    n1 = a.size\n",
    "    n2 = b.size\n",
    "    \n",
    "    numerator = (s1/n1 + s2/n2)**2\n",
    "    denominator = (s1/ n1)**2/(n1 - 1) + (s2/ n2)**2/(n2 - 1)\n",
    "    \n",
    "    return numerator/denominator"
   ]
  },
  {
   "cell_type": "code",
   "execution_count": 2,
   "metadata": {},
   "outputs": [],
   "source": [
    "#connect to server\n",
    "conn = sqlite3.connect(r'C:\\Users\\krisdavis\\Documents\\GitHub\\Topic_11\\dsc-case-study-hypothesis-testing\\data\\northWind.sqlite')\n",
    "cur = conn.cursor()"
   ]
  },
  {
   "cell_type": "code",
   "execution_count": null,
   "metadata": {},
   "outputs": [],
   "source": [
    "#preview data table names\n",
    "cur.execute(\"select * from sqlite_master\").fetchall()"
   ]
  },
  {
   "cell_type": "markdown",
   "metadata": {},
   "source": [
    "# Question 1: Is there a difference in quantity of products sold by discount rate? "
   ]
  },
  {
   "cell_type": "markdown",
   "metadata": {},
   "source": [
    "#### Data Observations and Assumptions  \n",
    "Observations\n",
    "1. Chai has the highest quantity sold at 45 units/ 0.20 discount \n",
    "2. Charteuse verte sold 42 units at a 0.00 discoun\n",
    "3. The majority of the units represent multiple items \n",
    "\n",
    "Assumptions\n",
    "1. Currency is in US Dollars\n",
    "2. The discount represents a dollar amount not precentage\n",
    "3. A high ReorderLevel is desirable"
   ]
  },
  {
   "cell_type": "markdown",
   "metadata": {},
   "source": [
    "## Querring the Data"
   ]
  },
  {
   "cell_type": "code",
   "execution_count": null,
   "metadata": {},
   "outputs": [],
   "source": [
    "# orderdetail df\n",
    "cur.execute(\"\"\"SELECT SupplierId, OrderId, ProductId, CategoryId, CategoryName,  \n",
    "                      OrderDetail.UnitPrice, Quantity, Discount, ProductName, QuantityPerUnit, UnitsOnOrder, ReorderLevel\n",
    "               FROM OrderDetail  \n",
    "               JOIN Product \n",
    "               ON Product.Id = OrderDetail.ProductId \n",
    "               JOIN Category  \n",
    "               ON Product.CategoryId = Category.Id   \n",
    "               ORDER BY Category.CategoryName;\"\"\")\n",
    "product_df = pd.DataFrame(cur.fetchall()) \n",
    "product_df.columns = [x[0] for x in cur.description]\n",
    "product_df"
   ]
  },
  {
   "cell_type": "code",
   "execution_count": null,
   "metadata": {},
   "outputs": [],
   "source": [
    "#cast needed columns as int/floats\n",
    "product_df['UnitPrice'] = product_df['UnitPrice'].astype(float)\n",
    "product_df['Quantity'] = product_df['Quantity'].astype(int)\n",
    "product_df['Discount'] = product_df['Discount'].astype(float) \n",
    "\n",
    "#create a % off column \n",
    "product_df['percentage_off'] = round((product_df.Discount / product_df.UnitPrice) * 100)\n",
    "product_df"
   ]
  },
  {
   "cell_type": "code",
   "execution_count": null,
   "metadata": {},
   "outputs": [],
   "source": [
    "#all items Quantity v Discount\n",
    "sns.barplot(data=product_df, x=\"Quantity\", y=\"Discount\")"
   ]
  },
  {
   "cell_type": "code",
   "execution_count": null,
   "metadata": {},
   "outputs": [],
   "source": [
    "#querry just beverages\n",
    "cur.execute(\"\"\"SELECT SupplierId, OrderId, ProductId, CategoryId, CategoryName, \n",
    "                    OrderDetail.UnitPrice, Quantity, Discount, QuantityPerUnit, ReorderLevel\n",
    "               FROM OrderDetail \n",
    "               JOIN Product  \n",
    "               ON Product.Id = OrderDetail.ProductId   \n",
    "               JOIN Category  \n",
    "               ON Product.CategoryId = Category.Id   \n",
    "               WHERE Category.CategoryName = 'Beverages' \n",
    "               ORDER BY ProductId;\"\"\")\n",
    "beverages_df = pd.DataFrame(cur.fetchall()) \n",
    "beverages_df.columns = [x[0] for x in cur.description]\n",
    "beverages_df"
   ]
  },
  {
   "cell_type": "code",
   "execution_count": null,
   "metadata": {},
   "outputs": [],
   "source": [
    "#cast needed columns as int/floats\n",
    "beverages_df['UnitPrice'] = beverages_df['UnitPrice'].astype(float)\n",
    "beverages_df['Quantity'] = beverages_df['Quantity'].astype(int)\n",
    "beverages_df['Discount'] = beverages_df['Discount'].astype(float) \n",
    "\n",
    "#create a % off column \n",
    "beverages_df['percentage_off'] = round(((beverages_df.Discount / beverages_df.UnitPrice) * 100), 2)\n",
    "beverages_df"
   ]
  },
  {
   "cell_type": "code",
   "execution_count": null,
   "metadata": {},
   "outputs": [],
   "source": [
    "#beverages Quantity v Discount\n",
    "sns.barplot(data=beverages_df, x=\"Quantity\", y=\"Discount\")"
   ]
  },
  {
   "cell_type": "code",
   "execution_count": null,
   "metadata": {},
   "outputs": [],
   "source": [
    "#just look at 15$ outback lager\n",
    "outback_lager_df = beverages_df.loc[(beverages_df['ProductId'] == 70) & (beverages_df['UnitPrice'] == 15.0)] \n",
    "outback_lager_df "
   ]
  },
  {
   "cell_type": "code",
   "execution_count": null,
   "metadata": {},
   "outputs": [],
   "source": [
    "#Outback Lager Quantity v Discount\n",
    "sns.barplot(data=outback_lager_df, x=\"Quantity\", y=\"Discount\")"
   ]
  },
  {
   "cell_type": "code",
   "execution_count": 323,
   "metadata": {},
   "outputs": [
    {
     "data": {
      "text/html": [
       "<div>\n",
       "<style scoped>\n",
       "    .dataframe tbody tr th:only-of-type {\n",
       "        vertical-align: middle;\n",
       "    }\n",
       "\n",
       "    .dataframe tbody tr th {\n",
       "        vertical-align: top;\n",
       "    }\n",
       "\n",
       "    .dataframe thead th {\n",
       "        text-align: right;\n",
       "    }\n",
       "</style>\n",
       "<table border=\"1\" class=\"dataframe\">\n",
       "  <thead>\n",
       "    <tr style=\"text-align: right;\">\n",
       "      <th></th>\n",
       "      <th>Id</th>\n",
       "      <th>CompanyName</th>\n",
       "      <th>ContactName</th>\n",
       "      <th>ContactTitle</th>\n",
       "      <th>Address</th>\n",
       "      <th>City</th>\n",
       "      <th>Region</th>\n",
       "      <th>PostalCode</th>\n",
       "      <th>Country</th>\n",
       "      <th>Phone</th>\n",
       "      <th>Fax</th>\n",
       "      <th>HomePage</th>\n",
       "    </tr>\n",
       "  </thead>\n",
       "  <tbody>\n",
       "    <tr>\n",
       "      <th>0</th>\n",
       "      <td>7</td>\n",
       "      <td>Pavlova, Ltd.</td>\n",
       "      <td>Ian Devling</td>\n",
       "      <td>Marketing Manager</td>\n",
       "      <td>74 Rose St. Moonie Ponds</td>\n",
       "      <td>Melbourne</td>\n",
       "      <td>Victoria</td>\n",
       "      <td>3058</td>\n",
       "      <td>Australia</td>\n",
       "      <td>(03) 444-2343</td>\n",
       "      <td>(03) 444-6588</td>\n",
       "      <td>None</td>\n",
       "    </tr>\n",
       "  </tbody>\n",
       "</table>\n",
       "</div>"
      ],
      "text/plain": [
       "   Id    CompanyName  ContactName       ContactTitle  \\\n",
       "0   7  Pavlova, Ltd.  Ian Devling  Marketing Manager   \n",
       "\n",
       "                    Address       City    Region PostalCode    Country  \\\n",
       "0  74 Rose St. Moonie Ponds  Melbourne  Victoria       3058  Australia   \n",
       "\n",
       "           Phone            Fax HomePage  \n",
       "0  (03) 444-2343  (03) 444-6588     None  "
      ]
     },
     "execution_count": 323,
     "metadata": {},
     "output_type": "execute_result"
    }
   ],
   "source": [
    "#find out more about supplier 7\n",
    "cur.execute(\"\"\"SELECT *\n",
    "               FROM Supplier \n",
    "               WHERE Id = 7\n",
    "              \"\"\")\n",
    "supplier_df = pd.DataFrame(cur.fetchall()) \n",
    "supplier_df.columns = [x[0] for x in cur.description]\n",
    "supplier_df"
   ]
  },
  {
   "cell_type": "markdown",
   "metadata": {},
   "source": [
    "## Starting The Experiment"
   ]
  },
  {
   "cell_type": "code",
   "execution_count": null,
   "metadata": {},
   "outputs": [],
   "source": [
    "#caluclate the sample size needed for alpha values [0.1, 0.5, 0.01] & sell rate increase of [0.005, 0.01, 0.5, 0.2] \n",
    "sd = 0.0475\n",
    "e_sizes = [mu_delta/sd for mu_delta in [.005,.01,.02, .5]]\n",
    "fig, axes = plt.subplots(ncols=1, nrows=3, figsize=(8,15))\n",
    "for n, alpha in enumerate([.01, .05, .1]):\n",
    "    print(type(n), alpha)\n",
    "    ax = axes[n]\n",
    "    power_anaylsis.plot_power(dep_var=\"nobs\",\n",
    "                              nobs = np.array(range(5,500)),\n",
    "                              effect_size=e_sizes,\n",
    "                              alpha=alpha,\n",
    "                              ax=ax)\n",
    "    ax.set_title('Power of Test for alpha = {}'.format(alpha))\n",
    "    ax.set_xticks(list(range(0,500,25)))\n",
    "    ax.set_yticks(np.linspace(0,1,11))"
   ]
  },
  {
   "cell_type": "code",
   "execution_count": null,
   "metadata": {},
   "outputs": [],
   "source": [
    "#drop all but the numerial values for outback lager 15$\n",
    "numerical_df = outback_lager_df.drop(['SupplierId', 'OrderId', 'ProductId', 'CategoryId', \n",
    "                                      'CategoryName', 'QuantityPerUnit', 'ReorderLevel'], axis=1) \n",
    "numerical_df"
   ]
  },
  {
   "cell_type": "markdown",
   "metadata": {},
   "source": [
    "## What affect does discount rate have on quantity of sales by Pavlov, Ltd of Outback Lager at unit price 15?"
   ]
  },
  {
   "cell_type": "code",
   "execution_count": 146,
   "metadata": {},
   "outputs": [],
   "source": [
    "#Subset into percentage groups .33, .67, 1.33, 1.67\n",
    "percent0 = numerical_df.loc[outback_lager_df['percentage_off']==0.00] \n",
    "percent33 = numerical_df.loc[outback_lager_df['percentage_off']==0.33] \n",
    "percent133 = numerical_df.loc[outback_lager_df['percentage_off']==1.33]\n",
    "percent167 = numerical_df.loc[outback_lager_df['percentage_off']==1.33]"
   ]
  },
  {
   "cell_type": "code",
   "execution_count": null,
   "metadata": {},
   "outputs": [],
   "source": [
    "#plot the distribution of each \n",
    "sns.distplot(percent0)\n",
    "sns.distplot(percent33)\n",
    "sns.distplot(percent133)\n",
    "sns.distplot(percent167) "
   ]
  },
  {
   "cell_type": "code",
   "execution_count": null,
   "metadata": {},
   "outputs": [],
   "source": [
    "#ANOVA Testing \n",
    "formula = 'Quantity ~ C(percentage_off)'\n",
    "lm = ols(formula, numerical_df).fit()\n",
    "table = sm.stats.anova_lm(lm, typ=2)\n",
    "print(table)"
   ]
  },
  {
   "cell_type": "markdown",
   "metadata": {},
   "source": [
    "### Finding the mean sales at each discount rate"
   ]
  },
  {
   "cell_type": "code",
   "execution_count": 343,
   "metadata": {},
   "outputs": [
    {
     "name": "stdout",
     "output_type": "stream",
     "text": [
      "Average Sales(Population Mean): 19.857\n",
      "0.00% Off Average Sales (0Cent Discount Mean): 18.188\n",
      "0.33% Off Average Sales (5Cent Discount Mean): 21.0\n",
      "1.33% Off Average Sales (20Cent Discount Mean): 27.333\n",
      "1.67% Off Average Sales (25Cent Discount Mean: 27.333\n"
     ]
    }
   ],
   "source": [
    "#population mean\n",
    "pop_mean = round(numerical_df['Quantity'].sum()/len(numerical_df['Quantity']), 3)\n",
    "\n",
    "#mean quantity at each percentage off   \n",
    "mu_0 = round(percent0['Quantity'].sum()/len(percent0['Quantity']), 3)\n",
    "mu_33 = round(percent33['Quantity'].sum()/len(percent33['Quantity']), 3)\n",
    "mu_133 = round(percent133['Quantity'].sum()/len(percent133['Quantity']), 3)\n",
    "mu_167 = round(percent167['Quantity'].sum()/len(percent167['Quantity']), 3)\n",
    "\n",
    "print(f\"Average Sales(Population Mean): {pop_mean}\") \n",
    "print(f\"0.00% Off Average Sales (0Cent Discount Mean): {mu_0}\") \n",
    "print(f\"0.33% Off Average Sales (5Cent Discount Mean): {mu_33}\") \n",
    "print(f\"1.33% Off Average Sales (20Cent Discount Mean): {mu_133}\")\n",
    "print(f\"1.67% Off Average Sales (25Cent Discount Mean: {mu_167}\")"
   ]
  },
  {
   "cell_type": "code",
   "execution_count": null,
   "metadata": {},
   "outputs": [],
   "source": [
    "#distribution of sales by percentage off \n",
    "ax = sns.barplot(x=\"percentage_off\", y=\"Quantity\", data=numerical_df)"
   ]
  },
  {
   "cell_type": "markdown",
   "metadata": {},
   "source": [
    "### No Discount \n",
    "\n",
    "    H0: The is no change in the quantity of sales when no discount is applied. \n",
    "\n",
    "    HA:The quantity of sales decreases by at least 1% when no discount rate is applied."
   ]
  },
  {
   "cell_type": "code",
   "execution_count": 182,
   "metadata": {},
   "outputs": [
    {
     "name": "stdout",
     "output_type": "stream",
     "text": [
      "The sample contains 16 observations, having a mean of 18.188 and a standard deviation (sigma) =  15.371917035078393 , with 15 degrees of freedom. The difference between sample and population means is: -1.6690000000000005\n"
     ]
    }
   ],
   "source": [
    "#ttest 0.00  - No Discount Applied  \n",
    "\n",
    "# Population mean (μ)\n",
    "mu = pop_mean\n",
    "\n",
    "# Sample mean (x̄) using NumPy mean()\n",
    "x_bar = mu_0\n",
    "\n",
    "# Sample Stadrad Deviation (sigma) using Numpy\n",
    "sigma = np.std(percent0['Quantity'],ddof=1)\n",
    "\n",
    "# Sample size (n)\n",
    "n = len(percent0['Quantity'])\n",
    "\n",
    "# Degrees of Freedom\n",
    "df = n-1\n",
    "\n",
    "# Difference in sample mean \n",
    "diff = x_bar - mu\n",
    "\n",
    "\n",
    "# Print the findings\n",
    "print ('The sample contains', n, 'observations, having a mean of', x_bar, \"and a standard deviation (sigma) = \", sigma, \n",
    "       \", with\", df, 'degrees of freedom. The difference between sample and population means is:', diff) "
   ]
  },
  {
   "cell_type": "code",
   "execution_count": 244,
   "metadata": {},
   "outputs": [
    {
     "name": "stdout",
     "output_type": "stream",
     "text": [
      "0.9407452034519197\n"
     ]
    }
   ],
   "source": [
    "#pvalue of .00 percent off \n",
    "pop = [14, 6, 7, 15, 20, 15, 40, 50, 30, 8, 28, 40, 35, 5, 6, 9, 12, 30, 30, 4, 50, 30, 4, 50, 30, 3, 20, 30, 4, 3, 12]\n",
    "zero= [6, 7, 20, 50, 40, 35, 5, 6, 9, 12, 30, 4, 30, 30, 4, 3]\n",
    "\n",
    "num = np.mean(pop) - np.mean(zero)\n",
    "s = np.var(pop+zero)\n",
    "n = len(pop+zero)\n",
    "denom = s/np.sqrt(n)\n",
    "t = num / denom\n",
    "pval = stats.t.sf(np.abs(t), n-1)*2\n",
    "print(pval)"
   ]
  },
  {
   "cell_type": "code",
   "execution_count": 248,
   "metadata": {},
   "outputs": [
    {
     "name": "stdout",
     "output_type": "stream",
     "text": [
      "P-value: 0.2991\n"
     ]
    }
   ],
   "source": [
    "iterations = 10**4\n",
    "diff_mu_a_b = np.mean(pop) - np.mean(zero)\n",
    "num = 0 #Initialize numerator\n",
    "for n in range(iterations):\n",
    "    ai, bi = bootstrap(pop, zero)\n",
    "    diff_mu_ai_bi = np.mean(ai) - np.mean(bi)\n",
    "    if diff_mu_ai_bi >= diff_mu_a_b:\n",
    "        num +=1\n",
    "p_val = num / iterations\n",
    "print('P-value: {}'.format(p_val))"
   ]
  },
  {
   "cell_type": "code",
   "execution_count": 260,
   "metadata": {},
   "outputs": [
    {
     "name": "stdout",
     "output_type": "stream",
     "text": [
      "Null hypothesis is True with t-value = -0.0 , critical t-value = 1.7530503556925547 and p-value = 0.9998979039\n"
     ]
    },
    {
     "data": {
      "image/png": "[encoded data removed]",
      "text/plain": [
       "<Figure size 864x720 with 1 Axes>"
      ]
     },
     "metadata": {},
     "output_type": "display_data"
    }
   ],
   "source": [
    "popmean = 18.188\n",
    "alpha = 0.05 \n",
    "sample = np.array([6, 7, 20, 50, 40, 35, 5, 6, 9, 12, 30, 4, 30, 30, 4, 3])\n",
    "one_sample_ttest(sample, popmean, alpha)"
   ]
  },
  {
   "cell_type": "markdown",
   "metadata": {},
   "source": [
    "#### Analysis \n",
    "With an applied bootstrap our pval drops from 0.94 to 0.29 however we still fail to reject the null hypothesis. "
   ]
  },
  {
   "cell_type": "markdown",
   "metadata": {},
   "source": [
    "### .33% Discount  \n",
    "\n",
    "\n",
    "    H0: The is no change in the quantity of sales at discount rate .33. \n",
    "\n",
    "    HA:The quantity of sales increases by at least 1% when sold at a .33% discount rate."
   ]
  },
  {
   "cell_type": "code",
   "execution_count": 344,
   "metadata": {},
   "outputs": [
    {
     "name": "stdout",
     "output_type": "stream",
     "text": [
      "The sample contains 3 observations, having a mean of 21.0 and a standard deviation (sigma) =  16.822603841260722 , with 2 degrees of freedom. The difference between sample and population means is: 2.812000000000001\n"
     ]
    }
   ],
   "source": [
    "#ttest 33\n",
    "# Population mean (μ)\n",
    "mu = 18.188\n",
    "\n",
    "# Sample mean (x̄) using NumPy mean()\n",
    "x_bar = mu_33\n",
    "\n",
    "# Sample Stadrad Deviation (sigma) using Numpy\n",
    "sigma = np.std(percent33['Quantity'],ddof=1)\n",
    "\n",
    "# Sample size (n)\n",
    "n = len(percent33['Quantity'])\n",
    "\n",
    "# Degrees of Freedom\n",
    "df = n-1\n",
    "\n",
    "# Difference in sample mean \n",
    "diff = x_bar - mu\n",
    "\n",
    "\n",
    "# Print the findings\n",
    "print ('The sample contains', n, 'observations, having a mean of', x_bar, \"and a standard deviation (sigma) = \", sigma, \n",
    "       \", with\", df, 'degrees of freedom. The difference between sample and population means is:', diff) "
   ]
  },
  {
   "cell_type": "code",
   "execution_count": null,
   "metadata": {},
   "outputs": [],
   "source": [
    "#pvalue of .33 percent off\n",
    "pop = [14, 6, 7, 15, 20, 15, 40, 50, 30, 8, 28, 40, 35, 5, 6, 9, 12, 30, 30, 4, 50, 30, 4, 50, 30, 3, 20, 30, 4, 3, 12]\n",
    "b_33= [15, 40, 8]\n",
    "\n",
    "num = np.mean(pop) - np.mean(b_33)\n",
    "s = np.var(pop+b_33)\n",
    "n = len(pop+b_33)\n",
    "denom = s/np.sqrt(n)\n",
    "t = num / denom\n",
    "pval = stats.t.sf(np.abs(t), n-1)*2\n",
    "print(pval)"
   ]
  },
  {
   "cell_type": "code",
   "execution_count": 347,
   "metadata": {},
   "outputs": [
    {
     "name": "stdout",
     "output_type": "stream",
     "text": [
      "P-value: 0.6274\n"
     ]
    }
   ],
   "source": [
    "iterations = 10**4\n",
    "diff_mu_a_b = np.mean(pop) - np.mean(b_33)\n",
    "num = 0 #Initialize numerator\n",
    "for n in range(iterations):\n",
    "    ai, bi = bootstrap(pop, b_33)\n",
    "    diff_mu_ai_bi = np.mean(ai) - np.mean(bi)\n",
    "    if diff_mu_ai_bi >= diff_mu_a_b:\n",
    "        num +=1\n",
    "p_val = num / iterations\n",
    "print('P-value: {}'.format(p_val))"
   ]
  },
  {
   "cell_type": "code",
   "execution_count": 348,
   "metadata": {},
   "outputs": [
    {
     "name": "stdout",
     "output_type": "stream",
     "text": [
      "Null hypothesis is True with t-value = 0.29 , critical t-value = 2.919985580355516 and p-value = 0.7994363304\n"
     ]
    },
    {
     "data": {
      "image/png": "[encoded data removed]",
      "text/plain": [
       "<Figure size 864x720 with 1 Axes>"
      ]
     },
     "metadata": {},
     "output_type": "display_data"
    }
   ],
   "source": [
    "popmean = 18.188\n",
    "alpha = 0.05 \n",
    "sample = np.array([15, 40, 8])\n",
    "one_sample_ttest(sample, popmean, alpha)"
   ]
  },
  {
   "cell_type": "markdown",
   "metadata": {},
   "source": [
    "#### Analysis \n",
    "With an applied bootstrap our pval drops from 0.99 to 0.52 however we still fail to reject the null hypothesis."
   ]
  },
  {
   "cell_type": "markdown",
   "metadata": {},
   "source": [
    "### 1.33% Discount\n",
    "\n",
    "    H0: The is no change in the quantity of sales at discount rate 1.33. \n",
    "\n",
    "    HA:The quantity of sales increases by at least 1% when sold at a 1.33% discount rate."
   ]
  },
  {
   "cell_type": "code",
   "execution_count": 219,
   "metadata": {},
   "outputs": [
    {
     "name": "stdout",
     "output_type": "stream",
     "text": [
      "The sample contains 3 observations, having a mean of 27.333 and a standard deviation (sigma) =  20.033305601755625 , with 2 degrees of freedom. The difference between sample and population means is: 7.475999999999999\n"
     ]
    }
   ],
   "source": [
    "#ttest 133\n",
    "# Population mean (μ)\n",
    "mu = pop_mean\n",
    "\n",
    "# Sample mean (x̄) using NumPy mean()\n",
    "x_bar133 = mu_133\n",
    "\n",
    "# Sample Stadrad Deviation (sigma) using Numpy\n",
    "sigma = np.std(percent133['Quantity'],ddof=1)\n",
    "\n",
    "# Sample size (n)\n",
    "n = len(percent133['Quantity'])\n",
    "\n",
    "# Degrees of Freedom\n",
    "df = n-1\n",
    "\n",
    "# Difference in sample mean \n",
    "diff = x_bar133 - mu\n",
    "\n",
    "\n",
    "# Print the findings\n",
    "print ('The sample contains', n, 'observations, having a mean of', x_bar, \"and a standard deviation (sigma) = \", sigma, \n",
    "       \", with\", df, 'degrees of freedom. The difference between sample and population means is:', diff) "
   ]
  },
  {
   "cell_type": "code",
   "execution_count": 251,
   "metadata": {},
   "outputs": [
    {
     "name": "stdout",
     "output_type": "stream",
     "text": [
      "0.8679331935113082\n"
     ]
    }
   ],
   "source": [
    "#pvalue of 1.33 percent off\n",
    "pop = [14, 6, 7, 15, 20, 15, 40, 50, 30, 8, 28, 40, 35, 5, 6, 9, 12, 30, 30, 4, 50, 30, 4, 50, 30, 3, 20, 30, 4, 3, 12]\n",
    "b_133= [50, 20, 12]\n",
    "\n",
    "num = np.mean(pop) - np.mean(b_133)\n",
    "s = np.var(pop+b_133)\n",
    "n = len(pop+b_133)\n",
    "denom = s/np.sqrt(n)\n",
    "t = num / denom\n",
    "pval = stats.t.sf(np.abs(t), n-1)*2\n",
    "print(pval)"
   ]
  },
  {
   "cell_type": "code",
   "execution_count": 252,
   "metadata": {},
   "outputs": [
    {
     "name": "stdout",
     "output_type": "stream",
     "text": [
      "P-value: 0.7686\n"
     ]
    }
   ],
   "source": [
    "iterations = 10**4\n",
    "diff_mu_a_b = np.mean(pop) - np.mean(b_133)\n",
    "num = 0 #Initialize numerator\n",
    "for n in range(iterations):\n",
    "    ai, bi = bootstrap(pop, b_133)\n",
    "    diff_mu_ai_bi = np.mean(ai) - np.mean(bi)\n",
    "    if diff_mu_ai_bi >= diff_mu_a_b:\n",
    "        num +=1\n",
    "p_val = num / iterations\n",
    "print('P-value: {}'.format(p_val))"
   ]
  },
  {
   "cell_type": "code",
   "execution_count": 262,
   "metadata": {},
   "outputs": [
    {
     "name": "stdout",
     "output_type": "stream",
     "text": [
      "Null hypothesis is True with t-value = 0.79 , critical t-value = 2.919985580355516 and p-value = 0.5119921439\n"
     ]
    },
    {
     "data": {
      "image/png": "[encoded data removed]",
      "text/plain": [
       "<Figure size 864x720 with 1 Axes>"
      ]
     },
     "metadata": {},
     "output_type": "display_data"
    }
   ],
   "source": [
    "popmean = 18.188\n",
    "alpha = 0.05 \n",
    "sample = np.array([50, 20, 12])\n",
    "one_sample_ttest(sample, popmean, alpha)"
   ]
  },
  {
   "cell_type": "markdown",
   "metadata": {},
   "source": [
    "### Analysis: \n",
    "With an applied bootstrap our pval drops from 0.87 to 0.77 however we still fail to reject the null hypothesis"
   ]
  },
  {
   "cell_type": "markdown",
   "metadata": {},
   "source": [
    "### 1.67% Discount  \n",
    "\n",
    "\n",
    "    H0: The is no change in the quantity of sales at discount rate 1.67. \n",
    "\n",
    "    HA:The quantity of sales increases by at least 1% when sold at a 1.67% discount rate."
   ]
  },
  {
   "cell_type": "code",
   "execution_count": 181,
   "metadata": {},
   "outputs": [
    {
     "name": "stdout",
     "output_type": "stream",
     "text": [
      "The sample contains 3 observations, having a mean of 27.333 and a standard deviation (sigma) =  20.033305601755625 , with 2 degrees of freedom. The difference between sample and population means is: 7.475999999999999\n"
     ]
    }
   ],
   "source": [
    "#ttest 167\n",
    "# Population mean (μ)\n",
    "mu = pop_mean\n",
    "\n",
    "# Sample mean (x̄) using NumPy mean()\n",
    "x_bar = mu_167\n",
    "\n",
    "# Sample Stadrad Deviation (sigma) using Numpy\n",
    "sigma = np.std(percent167['Quantity'],ddof=1)\n",
    "\n",
    "# Sample size (n)\n",
    "n = len(percent167['Quantity'])\n",
    "\n",
    "# Degrees of Freedom\n",
    "df = n-1\n",
    "\n",
    "# Difference in sample mean \n",
    "diff = x_bar - mu\n",
    "\n",
    "\n",
    "# Print the findings\n",
    "print ('The sample contains', n, 'observations, having a mean of', x_bar, \"and a standard deviation (sigma) = \", sigma, \n",
    "       \", with\", df, 'degrees of freedom. The difference between sample and population means is:', diff) "
   ]
  },
  {
   "cell_type": "code",
   "execution_count": 254,
   "metadata": {},
   "outputs": [
    {
     "name": "stdout",
     "output_type": "stream",
     "text": [
      "0.8679331935113082\n"
     ]
    }
   ],
   "source": [
    "#pvalue of 1.67 percent off\n",
    "pop = [14, 6, 7, 15, 20, 15, 40, 50, 30, 8, 28, 40, 35, 5, 6, 9, 12, 30, 30, 4, 50, 30, 4, 50, 30, 3, 20, 30, 4, 3, 12]\n",
    "b_167= [50, 20, 12]\n",
    "\n",
    "num = np.mean(pop) - np.mean(b_167)\n",
    "s = np.var(pop+b_167)\n",
    "n = len(pop+b_167)\n",
    "denom = s/np.sqrt(n)\n",
    "t = num / denom\n",
    "pval = stats.t.sf(np.abs(t), n-1)*2\n",
    "print(pval)"
   ]
  },
  {
   "cell_type": "code",
   "execution_count": 255,
   "metadata": {},
   "outputs": [
    {
     "name": "stdout",
     "output_type": "stream",
     "text": [
      "P-value: 0.7652\n"
     ]
    }
   ],
   "source": [
    "iterations = 10**4\n",
    "diff_mu_a_b = np.mean(pop) - np.mean(b_167)\n",
    "num = 0 #Initialize numerator\n",
    "for n in range(iterations):\n",
    "    ai, bi = bootstrap(pop, b_167)\n",
    "    diff_mu_ai_bi = np.mean(ai) - np.mean(bi)\n",
    "    if diff_mu_ai_bi >= diff_mu_a_b:\n",
    "        num +=1\n",
    "p_val = num / iterations\n",
    "print('P-value: {}'.format(p_val))"
   ]
  },
  {
   "cell_type": "code",
   "execution_count": 263,
   "metadata": {},
   "outputs": [
    {
     "name": "stdout",
     "output_type": "stream",
     "text": [
      "Null hypothesis is True with t-value = 0.79 , critical t-value = 2.919985580355516 and p-value = 0.5119921439\n"
     ]
    },
    {
     "data": {
      "image/png": "[encoded data removed]",
      "text/plain": [
       "<Figure size 864x720 with 1 Axes>"
      ]
     },
     "metadata": {},
     "output_type": "display_data"
    }
   ],
   "source": [
    "popmean = 18.188\n",
    "alpha = 0.05 \n",
    "sample = np.array([50, 20, 12])\n",
    "one_sample_ttest(sample, popmean, alpha)"
   ]
  },
  {
   "cell_type": "markdown",
   "metadata": {},
   "source": [
    "### Analysis:  \n",
    "With an applied bootstrap our pval drops from 0.86 to 0.77 however we still fail to reject the null hypothesis."
   ]
  },
  {
   "cell_type": "markdown",
   "metadata": {},
   "source": [
    "## Building a DF to directly compare hypothetical randomly generated quanities for each discount rate"
   ]
  },
  {
   "cell_type": "code",
   "execution_count": null,
   "metadata": {},
   "outputs": [],
   "source": [
    "#Generate random numbers in data to expand sample size \n",
    "import random\n",
    "\n",
    "randomlist = random.sample(range(2, 51), 28)\n",
    "print(randomlist) \n",
    "\n",
    "pop = np.array([14, 6, 7, 15, 20, 15, 40, 50, 30, 8, 28, 40, 35, 5, 6, 9, 12, 30, 30, 4, 50, 30, 4, 50, 30, 3, 20, 30, 4, 3, 12])\n",
    "zero_rand= np.array([6, 7, 20, 50, 40, 35, 5, 6, 9, 12, 30, 4, 30, 30, 4, 3, 30, 43, 2, 35, 49, 26, 44, 47, 21, 23, 45, 9, 46, 6, 27])\n",
    "rand_33= np.array([15, 40, 8, 22, 35, 33, 15, 46, 31, 23, 5, 38, 32, 13, 36, 44, 27, 2, 18, 8, 39, 42, 24, 17, 47, 3, 49, 45, 7, 30, 6]) \n",
    "rand_133 = np.array([50, 20, 12, 18, 35, 31, 43, 28, 9, 15, 27, 11, 50, 5, 36, 29, 12, 14, 20, 30, 19, 23, 48, 7, 42, 46, 40, 26, 22, 17, 34])\n",
    "rand_167 = np.array([50, 20, 12, 15, 16, 17, 12, 24, 22, 41, 39, 26, 20, 4, 43, 3, 32, 49, 5, 45, 25, 13, 7, 28, 34, 14, 40, 44, 37, 36, 42])"
   ]
  },
  {
   "cell_type": "code",
   "execution_count": null,
   "metadata": {},
   "outputs": [],
   "source": [
    "#DF of quantity sold by percent discount \n",
    "df = pd.DataFrame(list(zip(pop, zero_rand, rand_33, rand_133, rand_167)), \n",
    "                  columns =['popquantities', 'quantities0', 'quantities33', 'quantites133', 'quantites167'], dtype=int) \n",
    "df"
   ]
  },
  {
   "cell_type": "code",
   "execution_count": 300,
   "metadata": {},
   "outputs": [],
   "source": [
    "#mean of hypothetical lists\n",
    "popmean = 20.645161\n",
    "zeromean = 24.000000\n",
    "mean33 = 25.806452\n",
    "mean133 = 26.419355\n",
    "mean167 = 26.290323"
   ]
  },
  {
   "cell_type": "code",
   "execution_count": null,
   "metadata": {},
   "outputs": [],
   "source": [
    "# ANOVA \n",
    "formula = 'popquantities ~ C(quantities33) + C(quantites133) + C(quantites167) + quantities0' \n",
    "lm = ols(formula, df).fit()\n",
    "table = sm.stats.anova_lm(lm, typ=2)\n",
    "print(table)"
   ]
  },
  {
   "cell_type": "markdown",
   "metadata": {},
   "source": [
    "## Pop to Zero "
   ]
  },
  {
   "cell_type": "code",
   "execution_count": 304,
   "metadata": {},
   "outputs": [
    {
     "data": {
      "text/plain": [
       "0.8318864275257802"
      ]
     },
     "execution_count": 304,
     "metadata": {},
     "output_type": "execute_result"
    }
   ],
   "source": [
    "#Welch's Ttest pop/ 0 discount\n",
    "a = pop\n",
    "b = zero_rand\n",
    "welch_t(a, b)"
   ]
  },
  {
   "cell_type": "code",
   "execution_count": 311,
   "metadata": {},
   "outputs": [
    {
     "data": {
      "text/plain": [
       "59.65459771058358"
      ]
     },
     "execution_count": 311,
     "metadata": {},
     "output_type": "execute_result"
    }
   ],
   "source": [
    "#degree of freedom\n",
    "a = pop\n",
    "b = zero_rand\n",
    "welch_df(a, b)"
   ]
  },
  {
   "cell_type": "code",
   "execution_count": 318,
   "metadata": {},
   "outputs": [
    {
     "name": "stdout",
     "output_type": "stream",
     "text": [
      "0.20439540047279947\n"
     ]
    }
   ],
   "source": [
    "#pval\n",
    "p = 1 - stats.t.cdf(0.8318864275257802, 59.65459771058358)\n",
    "print(p) "
   ]
  },
  {
   "cell_type": "code",
   "execution_count": null,
   "metadata": {},
   "outputs": [],
   "source": [
    "#Visualize density\n",
    "sns.kdeplot(data=zero_rand)\n",
    "sns.despine()"
   ]
  },
  {
   "cell_type": "markdown",
   "metadata": {},
   "source": [
    "## Pop To 0.33"
   ]
  },
  {
   "cell_type": "code",
   "execution_count": 306,
   "metadata": {},
   "outputs": [
    {
     "data": {
      "text/plain": [
       "1.3470100620554153"
      ]
     },
     "execution_count": 306,
     "metadata": {},
     "output_type": "execute_result"
    }
   ],
   "source": [
    "#Welch's Ttest pop/ .33 discount\n",
    "a = pop\n",
    "b = rand_33\n",
    "welch_t(a, b)"
   ]
  },
  {
   "cell_type": "code",
   "execution_count": 312,
   "metadata": {},
   "outputs": [
    {
     "data": {
      "text/plain": [
       "59.96700889639937"
      ]
     },
     "execution_count": 312,
     "metadata": {},
     "output_type": "execute_result"
    }
   ],
   "source": [
    "#degree of freedom\n",
    "a = pop\n",
    "b = rand_33\n",
    "welch_df(a, b)"
   ]
  },
  {
   "cell_type": "code",
   "execution_count": 317,
   "metadata": {},
   "outputs": [
    {
     "name": "stdout",
     "output_type": "stream",
     "text": [
      "0.09152272024147734\n"
     ]
    }
   ],
   "source": [
    "#pval\n",
    "p = 1 - stats.t.cdf(1.3470100620554153, 59.96700889639937)\n",
    "print(p) "
   ]
  },
  {
   "cell_type": "code",
   "execution_count": null,
   "metadata": {},
   "outputs": [],
   "source": [
    "#visulaize density\n",
    "sns.kdeplot(data=rand_33)\n",
    "sns.despine()"
   ]
  },
  {
   "cell_type": "markdown",
   "metadata": {},
   "source": [
    "## Pop To 1.33"
   ]
  },
  {
   "cell_type": "code",
   "execution_count": 307,
   "metadata": {},
   "outputs": [
    {
     "data": {
      "text/plain": [
       "1.5862836209834563"
      ]
     },
     "execution_count": 307,
     "metadata": {},
     "output_type": "execute_result"
    }
   ],
   "source": [
    "#Welche's Ttest pop/ 1.33 discount\n",
    "a = pop\n",
    "b = rand_133\n",
    "welch_t(a, b)"
   ]
  },
  {
   "cell_type": "code",
   "execution_count": 313,
   "metadata": {},
   "outputs": [
    {
     "data": {
      "text/plain": [
       "58.941248473924816"
      ]
     },
     "execution_count": 313,
     "metadata": {},
     "output_type": "execute_result"
    }
   ],
   "source": [
    "#degree of freedom\n",
    "a = pop\n",
    "b = rand_133\n",
    "welch_df(a, b)"
   ]
  },
  {
   "cell_type": "code",
   "execution_count": 319,
   "metadata": {},
   "outputs": [
    {
     "name": "stdout",
     "output_type": "stream",
     "text": [
      "0.05901293368378724\n"
     ]
    }
   ],
   "source": [
    "#pval\n",
    "p = 1 - stats.t.cdf(1.5862836209834563, 58.941248473924816)\n",
    "print(p) "
   ]
  },
  {
   "cell_type": "code",
   "execution_count": null,
   "metadata": {},
   "outputs": [],
   "source": [
    "#visulaize density\n",
    "sns.kdeplot(data=rand_133)\n",
    "sns.despine()"
   ]
  },
  {
   "cell_type": "markdown",
   "metadata": {},
   "source": [
    "## Pop To 1.67"
   ]
  },
  {
   "cell_type": "code",
   "execution_count": 309,
   "metadata": {},
   "outputs": [
    {
     "data": {
      "text/plain": [
       "1.5012861420682635"
      ]
     },
     "execution_count": 309,
     "metadata": {},
     "output_type": "execute_result"
    }
   ],
   "source": [
    "#Welch's Ttest pop/ 1.67 discount\n",
    "a = pop\n",
    "b = rand_167\n",
    "welch_t(a, b)"
   ]
  },
  {
   "cell_type": "code",
   "execution_count": 314,
   "metadata": {},
   "outputs": [
    {
     "data": {
      "text/plain": [
       "59.76491168123537"
      ]
     },
     "execution_count": 314,
     "metadata": {},
     "output_type": "execute_result"
    }
   ],
   "source": [
    "#degree of freedom\n",
    "a = pop\n",
    "b = rand_167\n",
    "welch_df(a, b)"
   ]
  },
  {
   "cell_type": "code",
   "execution_count": 320,
   "metadata": {},
   "outputs": [
    {
     "name": "stdout",
     "output_type": "stream",
     "text": [
      "0.0692733674443099\n"
     ]
    }
   ],
   "source": [
    "#pval\n",
    "p = 1 - stats.t.cdf(1.5012861420682635, 59.76491168123537)\n",
    "print(p) "
   ]
  },
  {
   "cell_type": "code",
   "execution_count": null,
   "metadata": {},
   "outputs": [],
   "source": [
    "#visualizing density\n",
    "sns.kdeplot(data=rand_167)\n",
    "sns.despine()"
   ]
  },
  {
   "cell_type": "markdown",
   "metadata": {},
   "source": [
    "## Conclusion"
   ]
  },
  {
   "cell_type": "code",
   "execution_count": 340,
   "metadata": {},
   "outputs": [
    {
     "name": "stderr",
     "output_type": "stream",
     "text": [
      "C:\\Users\\krisdavis\\Anaconda4\\lib\\site-packages\\seaborn\\axisgrid.py:1840: UserWarning: JointGrid annotation is deprecated and will be removed in a future release.\n",
      "  warnings.warn(UserWarning(msg))\n"
     ]
    },
    {
     "data": {
      "image/png": "[encoded data removed]",
      "text/plain": [
       "<Figure size 576x576 with 3 Axes>"
      ]
     },
     "metadata": {},
     "output_type": "display_data"
    }
   ],
   "source": [
    "sns.set(style=\"darkgrid\", color_codes=True)\n",
    "j = sns.jointplot('Discount', 'Quantity', data = numerical_df, kind='reg', height=8).annotate(stats.pearsonr)\n",
    "plt.show()"
   ]
  },
  {
   "cell_type": "markdown",
   "metadata": {},
   "source": [
    "I failed to reject the null hypothesis at 0.00, 0.33, 1.33, and 1.67 % discount rate. This leads me to the recommendation that Pavlov, Ltd should stop discounting their Outback Lager as it does not lead to higher sales."
   ]
  },
  {
   "cell_type": "markdown",
   "metadata": {},
   "source": [
    "## EffectSize/PowerAnalysis/Tukey Testing (if needed)"
   ]
  },
  {
   "cell_type": "code",
   "execution_count": null,
   "metadata": {},
   "outputs": [],
   "source": []
  },
  {
   "cell_type": "markdown",
   "metadata": {},
   "source": [
    "# Question 2: Is there a difference in number of orders and territory? "
   ]
  },
  {
   "cell_type": "code",
   "execution_count": 2,
   "metadata": {},
   "outputs": [],
   "source": [
    "# obtain necessary data"
   ]
  },
  {
   "cell_type": "markdown",
   "metadata": {},
   "source": [
    "## {Put test name here}\n",
    "H0: \n",
    "\n",
    "HA:"
   ]
  },
  {
   "cell_type": "code",
   "execution_count": 4,
   "metadata": {},
   "outputs": [],
   "source": [
    "# perform test"
   ]
  },
  {
   "cell_type": "markdown",
   "metadata": {},
   "source": [
    "## Conclusion"
   ]
  },
  {
   "cell_type": "code",
   "execution_count": null,
   "metadata": {},
   "outputs": [],
   "source": []
  },
  {
   "cell_type": "markdown",
   "metadata": {},
   "source": [
    "# Question 3: {You decide}"
   ]
  },
  {
   "cell_type": "code",
   "execution_count": 2,
   "metadata": {},
   "outputs": [],
   "source": [
    "# obtain necessary data"
   ]
  },
  {
   "cell_type": "markdown",
   "metadata": {},
   "source": [
    "## {Put test name here}\n",
    "H0: \n",
    "\n",
    "HA:"
   ]
  },
  {
   "cell_type": "code",
   "execution_count": 4,
   "metadata": {},
   "outputs": [],
   "source": [
    "# perform test"
   ]
  },
  {
   "cell_type": "markdown",
   "metadata": {},
   "source": [
    "## Conclusion"
   ]
  },
  {
   "cell_type": "code",
   "execution_count": null,
   "metadata": {},
   "outputs": [],
   "source": []
  },
  {
   "cell_type": "markdown",
   "metadata": {},
   "source": [
    "## EffectSize/PowerAnalysis/Tukey Testing (if needed)"
   ]
  },
  {
   "cell_type": "code",
   "execution_count": null,
   "metadata": {},
   "outputs": [],
   "source": []
  }
 ],
 "metadata": {
  "kernelspec": {
   "display_name": "Python 3",
   "language": "python",
   "name": "python3"
  },
  "language_info": {
   "codemirror_mode": {
    "name": "ipython",
    "version": 3
   },
   "file_extension": ".py",
   "mimetype": "text/x-python",
   "name": "python",
   "nbconvert_exporter": "python",
   "pygments_lexer": "ipython3",
   "version": "3.8.3"
  }
 },
 "nbformat": 4,
 "nbformat_minor": 2
}
